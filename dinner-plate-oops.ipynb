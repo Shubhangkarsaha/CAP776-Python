{
 "cells": [
  {
   "cell_type": "code",
   "execution_count": 1,
   "id": "f821dd62",
   "metadata": {},
   "outputs": [
    {
     "name": "stdout",
     "output_type": "stream",
     "text": [
      "Ingredients for Rajma Rice:\n",
      "Rajma (Kidney Beans): 1 cup\n",
      "Rice: 1 cup\n",
      "Onion: 1, finely chopped\n",
      "Tomato: 2, pureed\n",
      "Ginger-Garlic Paste: 1 tbsp\n",
      "Spices: ['Cumin seeds', 'Coriander powder', 'Turmeric powder', 'Garam masala']\n",
      "Salt: to taste\n",
      "Oil: 2 tbsp\n",
      "Water: as needed\n",
      "Coriander Leaves: for garnish\n",
      "\n",
      "Making Process:\n",
      "1. Soak the rajma (kidney beans) overnight. Drain and rinse.\n",
      "2. Cook the rajma in a pressure cooker with enough water until they are soft and tender.\n",
      "3. In a pan, heat oil and add cumin seeds. Once they splutter, add finely chopped onions.\n",
      "4. Sauté the onions until golden brown. Add ginger-garlic paste and sauté until raw smell goes away.\n",
      "5. Add the tomato puree and cook until the oil separates.\n",
      "6. Add coriander powder, turmeric powder, garam masala, and salt. Mix well.\n",
      "7. Add the cooked rajma along with its water to the pan. Let it simmer for 15-20 minutes.\n",
      "8. In another pan, cook the rice separately.\n",
      "9. Serve the Rajma hot with rice, garnished with coriander leaves.\n"
     ]
    }
   ],
   "source": [
    "# creating class platter\n",
    "class Platter:\n",
    "    def __init__(self):\n",
    "        # Default ingredients for Rajma Rice\n",
    "        self.ingredients = {\n",
    "            \"Rajma (Kidney Beans)\": \"1 cup\",\n",
    "            \"Rice\": \"1 cup\",\n",
    "            \"Onion\": \"1, finely chopped\",\n",
    "            \"Tomato\": \"2, pureed\",\n",
    "            \"Ginger-Garlic Paste\": \"1 tbsp\",\n",
    "            \"Spices\": [\"Cumin seeds\", \"Coriander powder\", \"Turmeric powder\", \"Garam masala\"],\n",
    "            \"Salt\": \"to taste\",\n",
    "            \"Oil\": \"2 tbsp\",\n",
    "            \"Water\": \"as needed\",\n",
    "            \"Coriander Leaves\": \"for garnish\"\n",
    "        }\n",
    "\n",
    "    def making_process(self):\n",
    "        process = (\n",
    "            \"1. Soak the rajma (kidney beans) overnight. Drain and rinse.\\n\"\n",
    "            \"2. Cook the rajma in a pressure cooker with enough water until they are soft and tender.\\n\"\n",
    "            \"3. In a pan, heat oil and add cumin seeds. Once they splutter, add finely chopped onions.\\n\"\n",
    "            \"4. Sauté the onions until golden brown. Add ginger-garlic paste and sauté until raw smell goes away.\\n\"\n",
    "            \"5. Add the tomato puree and cook until the oil separates.\\n\"\n",
    "            \"6. Add coriander powder, turmeric powder, garam masala, and salt. Mix well.\\n\"\n",
    "            \"7. Add the cooked rajma along with its water to the pan. Let it simmer for 15-20 minutes.\\n\"\n",
    "            \"8. In another pan, cook the rice separately.\\n\"\n",
    "            \"9. Serve the Rajma hot with rice, garnished with coriander leaves.\"\n",
    "        )\n",
    "        return process\n",
    "\n",
    "# Example usage\n",
    "platter = Platter()\n",
    "print(\"Ingredients for Rajma Rice:\")\n",
    "for ingredient, quantity in platter.ingredients.items():\n",
    "    print(f\"{ingredient}: {quantity}\")\n",
    "    \n",
    "print(\"\\nMaking Process:\")\n",
    "print(platter.making_process())\n"
   ]
  },
  {
   "cell_type": "code",
   "execution_count": null,
   "id": "e5b18ff3",
   "metadata": {},
   "outputs": [],
   "source": []
  }
 ],
 "metadata": {
  "kernelspec": {
   "display_name": "Python 3 (ipykernel)",
   "language": "python",
   "name": "python3"
  },
  "language_info": {
   "codemirror_mode": {
    "name": "ipython",
    "version": 3
   },
   "file_extension": ".py",
   "mimetype": "text/x-python",
   "name": "python",
   "nbconvert_exporter": "python",
   "pygments_lexer": "ipython3",
   "version": "3.11.5"
  }
 },
 "nbformat": 4,
 "nbformat_minor": 5
}
